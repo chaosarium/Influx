{
 "cells": [
  {
   "cell_type": "code",
   "execution_count": null,
   "id": "0669edbc",
   "metadata": {},
   "outputs": [],
   "source": [
    "from rich.pretty import pprint\n",
    "%load_ext autoreload\n",
    "%autoreload 2"
   ]
  },
  {
   "cell_type": "markdown",
   "id": "fd9705bf",
   "metadata": {},
   "source": [
    "# Stanza"
   ]
  },
  {
   "cell_type": "code",
   "execution_count": null,
   "id": "23bbafb5",
   "metadata": {},
   "outputs": [],
   "source": [
    "from lib.parsing import StanzaParser\n",
    "parser = StanzaParser(model_dir=\"../toy_content/_stanza_resources/\")"
   ]
  },
  {
   "cell_type": "code",
   "execution_count": null,
   "id": "ec4110e9",
   "metadata": {},
   "outputs": [],
   "source": [
    "pprint(parser.parse(\n",
    "    text=\"The quick brown fox jumps over the lazy dog. Let's see how the next sentence goes.\",\n",
    "    lang_code=\"en\"\n",
    "))"
   ]
  },
  {
   "cell_type": "markdown",
   "id": "21192f96",
   "metadata": {},
   "source": [
    "# Spacy"
   ]
  },
  {
   "cell_type": "code",
   "execution_count": null,
   "id": "3ef5adc8",
   "metadata": {},
   "outputs": [],
   "source": [
    "from lib.parsing import SpacyParser\n",
    "parser = SpacyParser()"
   ]
  },
  {
   "cell_type": "code",
   "execution_count": null,
   "id": "dc75beaa",
   "metadata": {},
   "outputs": [],
   "source": [
    "pprint(parser.parse(\n",
    "    text=\"The quick brown fox jumps over the lazy dog. Let's see how the next sentence goes.\",\n",
    "    lang_code=\"en\"\n",
    "))"
   ]
  },
  {
   "cell_type": "code",
   "execution_count": null,
   "id": "12c99505",
   "metadata": {},
   "outputs": [],
   "source": [
    "pprint(parser.parse(\n",
    "    text=\"猫が魚を食べています。\",\n",
    "    lang_code=\"ja\"\n",
    "))"
   ]
  },
  {
   "cell_type": "markdown",
   "id": "53e586c8",
   "metadata": {},
   "source": [
    "# Dependency"
   ]
  },
  {
   "cell_type": "code",
   "execution_count": null,
   "id": "1b53e6d9",
   "metadata": {},
   "outputs": [],
   "source": [
    "import spacy\n",
    "from spacy import displacy\n",
    "\n",
    "nlp = spacy.load(\"ja_ginza\")\n",
    "doc = nlp(\"猫が魚を食べています。\")\n",
    "displacy.serve(doc, style=\"dep\")"
   ]
  }
 ],
 "metadata": {
  "kernelspec": {
   "display_name": "influx_nlp",
   "language": "python",
   "name": "python3"
  },
  "language_info": {
   "codemirror_mode": {
    "name": "ipython",
    "version": 3
   },
   "file_extension": ".py",
   "mimetype": "text/x-python",
   "name": "python",
   "nbconvert_exporter": "python",
   "pygments_lexer": "ipython3",
   "version": "3.12.10"
  }
 },
 "nbformat": 4,
 "nbformat_minor": 5
}
